{
  "nbformat": 4,
  "nbformat_minor": 0,
  "metadata": {
    "colab": {
      "provenance": [],
      "authorship_tag": "ABX9TyPdJWUVSyilOp5cmdJir8cG",
      "include_colab_link": true
    },
    "kernelspec": {
      "name": "python3",
      "display_name": "Python 3"
    },
    "language_info": {
      "name": "python"
    }
  },
  "cells": [
    {
      "cell_type": "markdown",
      "metadata": {
        "id": "view-in-github",
        "colab_type": "text"
      },
      "source": [
        "<a href=\"https://colab.research.google.com/github/lukejoneslj/Justforfun/blob/main/ToriTweets.ipynb\" target=\"_parent\"><img src=\"https://colab.research.google.com/assets/colab-badge.svg\" alt=\"Open In Colab\"/></a>"
      ]
    },
    {
      "cell_type": "markdown",
      "source": [
        "**Run this first and just the first time you run it**\n"
      ],
      "metadata": {
        "id": "YXQr5tE1LAhS"
      }
    },
    {
      "cell_type": "code",
      "source": [
        "!pip install openai\n",
        "\n",
        "\n"
      ],
      "metadata": {
        "id": "SnKAwOh9J50A"
      },
      "execution_count": null,
      "outputs": []
    },
    {
      "cell_type": "markdown",
      "source": [
        "**You only need to run this cell once as well**"
      ],
      "metadata": {
        "id": "YD5iuU72Ugg0"
      }
    },
    {
      "cell_type": "code",
      "source": [
        "import os\n",
        "from openai import OpenAI\n",
        "\n",
        "os.environ['OPENAI_API_KEY'] = 'sk-proj-IG15aVXXgq5hN8vv4p8oT3BlbkFJ97IgUPiyMUEGQFYkSdVO'\n",
        "print(\"API Key set:\", 'OPENAI_API_KEY' in os.environ)\n",
        "\n",
        "client = OpenAI()\n",
        "\n",
        "print(\"OpenAI client created successfully.\")\n"
      ],
      "metadata": {
        "id": "zMOYyJ5pO9al",
        "colab": {
          "base_uri": "https://localhost:8080/"
        },
        "outputId": "dc81562c-df94-420f-c9c5-e109029986d6"
      },
      "execution_count": null,
      "outputs": [
        {
          "output_type": "stream",
          "name": "stdout",
          "text": [
            "API Key set: True\n",
            "OpenAI client created successfully.\n"
          ]
        }
      ]
    },
    {
      "cell_type": "code",
      "source": [
        "fellow_vc = {\n",
        "    \"Sweta Rau\": \"White venture capital\",\n",
        "    \"Siddharth Pisharody\": \"Argor Capital\",\n",
        "    \"Aravind Bharadwaj\": \"Intel Capital\",\n",
        "    \"Joe Dormani\": \"Thomson Reuters Ventures\",\n",
        "    \"Luiz Guilherme Manzano\": \"big_bets\",\n",
        "    \"Chirag Locham\": \"Miras Investments\",\n",
        "    \"Jewel Burks\": \"Collab Capital\",\n",
        "    \"Megan Ruan\": \"Gold House Ventures\",\n",
        "    \"Brendan Mathews\": \"Motley Fool Ventures\",\n",
        "    \"Vincent Park\": \"IRONGREY\",\n",
        "    \"Joshua Garcia\": \"Texas Municipal Retirement System\",\n",
        "    \"Rob Freelen\": \"Sozo Ventures\",\n",
        "    \"Patricio Aznar Leon de la Barra\": \"Bridge Latam\",\n",
        "    \"Heeeun Park\": \"Altos Ventures\",\n",
        "    \"Nitin Prasad\": \"Openspace Climate\",\n",
        "    \"Tatiana Shalalvand\": \"Kinnevik\",\n",
        "    \"Sarah Sclarsic\": \"Voyager Ventures\",\n",
        "    \"Nmachi Jidenma\": \"General Catalyst\",\n",
        "    \"Evaline Tsai\": \"Gigascale Capital\",\n",
        "    \"Lisa Cawley\": \"Screendoor\",\n",
        "    \"Kiswana Browne\": \"Spotlight Ventures\",\n",
        "    \"Lucas Lima\": \"Caravela Capital\",\n",
        "    \"Kin Lam\": \"Verus\",\n",
        "    \"Kerry Wei\": \"Prysm Capital\",\n",
        "    \"Aaron Fu\": \"Digital Currency Group\",\n",
        "    \"Mark George\": \"Atacama Ventures\",\n",
        "    \"Matt Maurer\": \"WVV Capital\",\n",
        "    \"Rodrigo Borges\": \"DOMO.VC (former DOMO Invest)\",\n",
        "    \"Katrina Kennedy\": \"Kickstart Fund\",\n",
        "    \"Andy Hwang\": \"Wavemaker Partners\",\n",
        "    \"David Chang\": \"Mindworks Capital Limited\",\n",
        "    \"Mike Moradi\": \"Cortado Ventures\",\n",
        "    \"Renata Arauz-DeStefano\": \"Pivotal Ventures\",\n",
        "    \"Aakash Kapoor\": \"Peak XV Partners (formerly Sequoia India and Southeast Asia)\",\n",
        "    \"Eloho Omame\": \"TLcom Capital\",\n",
        "    \"Alaina Hartley\": \"Greycroft\",\n",
        "    \"Terhi Vapola\": \"Greencode Ventures\",\n",
        "    \"Adina Tecklu\": \"Khosla Ventures\",\n",
        "    \"Allison Myers\": \"Buoyant Ventures\",\n",
        "    \"Kelly Goldstein\": \"53 Stations\",\n",
        "    \"Mohammed Ahmed\": \"Chiltern Street Capital\",\n",
        "    \"Susannah Duke\": \"Pelion Venture Partners\",\n",
        "    \"Rodney Appiah\": \"Cornerstone VC\",\n",
        "    \"Joyce Zhang\": \"The Wallace Foundation\",\n",
        "    \"Kavita Gupta\": \"Delta Blockchain Fund\",\n",
        "    \"Alina Mamayeva\": \"Lunate (former ADQ)\",\n",
        "    \"Logan Ashcraft\": \"Standard Investments\",\n",
        "    \"Kofi Ampadu\": \"Andreessen Horowitz\",\n",
        "    \"Samer Sadek\": \"e&capital\",\n",
        "    \"Tessa Flippin\": \"Capitalize VC\",\n",
        "    \"Eddie Lee\": \"White Star Capital\",\n",
        "    \"Stephanie Choo\": \"Portage\",\n",
        "    \"Jesús Salas\": \"Slauson & Co.\",\n",
        "    \"Derek Chu\": \"FirstMark Capital\",\n",
        "    \"Mokhtar Ibrahim\": \"BECO Capital\",\n",
        "    \"Tomasz Swieboda\": \"Inovo.vc\",\n",
        "    \"Gina Gotthilf\": \"Latitud\",\n",
        "    \"Michael Robinson\": \"Craft Ventures\",\n",
        "    \"Min Kim\": \"500 Global\",\n",
        "    \"Terry Chou\": \"Alpha Intelligence Capital\",\n",
        "    \"Maxwell Swicegood\": \"Savano Capital Partners\"\n",
        "}\n"
      ],
      "metadata": {
        "id": "iwHpd5gdb6TP"
      },
      "execution_count": null,
      "outputs": []
    },
    {
      "cell_type": "code",
      "source": [
        "import csv"
      ],
      "metadata": {
        "id": "Zcv0mKiMk66S"
      },
      "execution_count": null,
      "outputs": []
    },
    {
      "cell_type": "code",
      "source": [
        "client = OpenAI()\n",
        "csv_file = 'tweets.csv'\n",
        "# Open the file with the context manager\n",
        "with open(csv_file, mode='w', newline='', encoding='utf-8') as file:\n",
        "    writer = csv.writer(file)\n",
        "    writer.writerow(['Fellow', 'VC Firm', 'Tweet'])  # Write the headers\n",
        "\n",
        "    # Iterate over each fellow and their associated VC firm\n",
        "    for fellow, vc_firm in fellow_vc.items():\n",
        "        response = client.chat.completions.create(\n",
        "            model=\"gpt-4-turbo\",\n",
        "  messages=[\n",
        "    {\n",
        "      \"role\": \"system\",\n",
        "      \"content\": \"You are a twitter social media manager for Kauffman Fellows. We have our new summit launch campaign, class 29,  coming up. I will be providing you example tweets from last year's class 28 and I need you to create  new tweets that closely follow the voice, tone, clarity and everything else pertaining to the writing style of the example tweets. Make sure to only generate one tweet total. Also make sure to use different introductions as shown below in the example tweets so that every tweet doesn't just start with 'excited to welcome' or 'thrilled to announce' or something like that. Once in a while is ok, but not all the time. Also, don't use any handles or '@'s in your generations, just use the name of the person and of the VC firm without the '@' symbol. \\n\\nThe user will input simply the name of the new person and their vc firm name, from there you need to follow the voice and tone of the the example tweets to generate these new ones. Try to add one relvant emoji to each tweet. \\n\\nexample_tweets = [\\n    \\\"Excited to welcome @idrisayobello, aka the Afropreneur, Managing Partner of @LoftyIncVC, to Class 28! Idris is a pioneer in Africa's tech ecosystem, leading early-stage investments into 150+ startups, including three unicorns and 14 realized exits. https://www.kauffmanfellows.org/fellows/idris-bello\\\",\\n    \\\"Welcome to Class 28, @evplot! As General Partner at @dawncapital, Evgenia holds the distinction of being the youngest woman in Europe to be internally promoted to GP. Additionally, she's a Forbes 30 Under 30 winner & judge, & also one of Insider’s 100 Coolest People in Tech.\\\",\\n    \\\".@AnnaRaptis_ is the founder of @AmplificaC, the first female-focused VC fund in LatAm. As a solo GP, Anna is on a mission to catalyze sustainable economic development & firmly believes investing in women is the cornerstone of success. We're delighted to welcome her to Class 28!\\\",\\n    \\\"@thejerrylu is a data scientist turned consumer investor. Jerry is currently leading @Maveron's east coast efforts as an investment partner. We're excited to have Jerry as a member of KF Class 28! https://www.kauffmanfellows.org/fellows/jerry-lu\\\",\\n    \\\"Honored to have @emmacui, Founding Partner at @LongHashVC, as a member of KF Class 28! Emma is a seasoned crypto investor, CFA® Charterholder, Web 3.0 pioneer, and passionate world traveler. https://www.kauffmanfellows.org/fellows/emma-cui\\\",\\n    \\\".@pimepardo, Managing Partner at @ALLVP_, has come full circle from founder to investor all in the same firm. With a focus on early-stage startups in LatAm, Jimena invests with empathy - her superpower. We're excited to have her expertise and empathy in KF Class 28!\\\",\\n    \\\".@elanab is a former policy wonk, social entrepreneur & now Founding Partner of @wearespringbank, investing in early-stage startups building the infrastructure to enable working women & families to thrive across career, care, & household consumers. Welcome to KF Class 28!\\\",\\n    \\\"With over 70+ pre-seed investments under her belt, and a passion for building and fostering communities, we're thrilled to welcome @itsabhinaya, a Principal at @M25vc, to KF Class 28. https://www.kauffmanfellows.org/fellows/abhinaya-konduru\\\",\\n    \\\"We're honored to have @nneka_eze as a member of KF Class 28! As Managing Parter at @VestedWorld, Nneka invests in African startups after helping scale a pan-African business and build #impinv in Nigeria. She has also delivered a powerful TED talk on economic mobility.\\\",\\n    \\\"Welcome to Class 28, @Adrianna_Says! As a Principal @fcubedvc, Adrianna brings a wealth of experience, having led over 20+ investments. She also has an impressive background at Google, where she spearheaded opportunities generating $2B+ & co-founded Google's Area 120 incubator.\\\",\\n    \\\"Deeply rooted in the Canadian tech ecosystem, @eleonorejarry is a General Partner and key voice in @BrightsparkVC's deal flow and venture decision process. Éléonore is passionate about helping entrepreneurs and financing innovation. We're happy to have her in Class 28!\\\",\\n    \\\"Welcome to Class 28, @nat_harding! Nathaniel is a former USAF Captain, 9-figure exit entrepreneur, & Co-Founder/MP at @CortadoVentures. As a @wef Young Global Leader, he’s led workforce projects for the Governor, trained engineers in China, & volunteered at a Russian orphanage.\\\",\\n    \\\"We are honored to welcome @ines_stre to KF Class 28! Ines is a talented early-stage investor based in both London and Berlin, investing in Series A/B startups across Europe and Israel with a focus on Fintech, Insuretech, and Crypto.\\\",\\n    \\\"Excited to welcome @Marcus_Stroud, Co-Founder & Managing Parter of @TXVPARTNERS, to KF Class 28! Marcus received his B.A from Princeton and has led investments into groundbreaking companies such as Future, Oura, Levels Health, and Kambr (acquired). https://www.kauffmanfellows.org/fellows/marcus-stroud\\\",\\n    \\\"Welcome to Class 28, @lancedietz! After graduating from @WestPoint_USMA, serving in the US Army, & working in finance @jpmorgan, Lance joined @KBPartnersVC to help launch its first sports/tech-focused venture fund. He's also a big #Chicago sports fan & a proud girl dad!\\\",\\n    \\\"We're excited to have @nickbkim, Partner @upfrontvc, as a member of KF Class 28! Nick leads enterprise and vertical software investments and is building an aerospace and frontier tech practice in his hometown of LA. https://www.kauffmanfellows.org/fellows/nick-kim\\\",\\n    \\\"Founding GP @SunsetVC 🌅, a pre-seed firm. 📈Trained: VC @SamsungNext , IB @BankofAmerica , @coolwatercap C6 🎓: @Stanford and @Wharton MBA https://www.kauffmanfellows.org/fellows/antonio-key\\\",\\n    \\\"Welcome to Class 28, @michalklar! In addition to founding @betterbitevc, Michal has spent 12yrs in Asia Pacific as an operator & investor. Driven by environmental sustainability, Michal is dedicated to accelerating the alternative protein industry in Asia https://www.kauffmanfellows.org/fellows/michal-klar\\\",\\n    \\\"Thrilled to welcome @amthees, a true pioneer in the Brazilian VC ecosystem, to KF Class 28! He has built a portfolio of over 40+ companies, including 5 unicorns: Movile, @gympass, @Creditas_Br, @RappiBrasil, and @olistbr. https://www.kauffmanfellows.org/fellows/anderson-thees\\\",\\n    \\\".@henrikwsanchez is a rising star in the VC world. At the age of 22, Henrik made his first investment in Monzo through crowdfunding. Fast forward to today, at just 29, he is leading the investment team at @playfaircapital as a Partner. We're excited to have him join Class 28!\\\",\\n    \\\"With 16 years of investing experience, @YasCruzFerrine, a General Partner @visiblehandsvc, aims to be an iconic and inclusive early-stage venture capitalist that ensures the digital transformation includes everybody. https://www.kauffmanfellows.org/fellows/yasmin-ferrine\\\",\\n    \\\".@tecoker is a VC who loves to explore the latest tech & work closely with brilliant founders. Tobi is responsible for investing in & building 10+ companies & has advised on $2B+ in capital transactions. Tobi is a Deal Partner at @felicis & a welcome addition to Class 28!\\\",\\n    \\\"\\\\\\\"As a 1st-gen Colombian-American, @iamnancyat grew up aware of the world's inequitable access to opportunities. Now Nancy joins KF Class 28 as a Harvard grad & Partner at @uluventures, where she invests in transformative tech that can democratize access across all industries.\\\\\\\"\\\",\\n    \\\"\\\\\\\"As President of @TDKVentures, @nicolas_sauvage invests \\\\\\\"\\\\\\\"where fundamental materials science unlocks meaningful megatrends.\\\\\\\"\\\\\\\" Nicolas is most proud of how their portfolio companies have contributed to society & a greener, more sustainable planet. Thrilled to have him in Class 28!\\\",\\n    \\\".@accessbridgeVC Co-Founder, @rakanracing1, is a Saudi venture capital investor whose passion is supporting young leaders embarking on their entrepreneurship journey. We're delighted to welcome him to KF Class 28! https://www.kauffmanfellows.org/fellows/rakan-alrashed\\\",\\n    \\\"Delighted to welcome @gutoaraujo_, GP and head of Network Services for monashees portfolio companies, to Class 28! Previously, Guto was an entrepreneur at Elo7, a leading marketplace for handcrafts that was acquired by Etsy. Guto also has an MBA from Kellogg School of Management.\\\",\\n    \\\".@zakidjemal, Founder & MP of Fresh Fund, is a Forbes 30 Under 30 honoree, Harvard grad, TEDx speaker, & first-check investor in 40+ pre-seed Israeli startups! He's also a founder at Kulna Yerushalayim bridging the divides between Jews & Arabs in his hometown of Jerusalem!\\\",\\n    \\\"Happy to welcome @ZealVC Principal Investor @Andywill29 to KF Class 28! Andy has spent the last 11 years as a leader across banking, hedge funds, and venture capital with a specific focus on fintech. https://www.kauffmanfellows.org/fellows/andy-will\\\",\\n    \\\"@ianmbeadle is driven by a mission—to leverage his skills & experience to foster a virtuous cycle of wealth & opportunity for people of color. As a Partner at @concreterosevc, he's addressing the funding gaps that are felt most acutely at the early stages. Welcome to Class 28!\\\",\\n    \\\"Thrilled to welcome @AkbarPoonawala to KF Class 28! Akbar is the Co-Founder and Managing Partner of Pivot Investment Partners, an investment firm focused exclusively on Growth Equity-stage FinTech and InsureTech companies. https://www.kauffmanfellows.org/fellows/akbar-poonawala\\\",\\n    \\\".@sansb is a Partner at B37 Ventures, where he focuses on the exchange of innovation for scale between high-growth technology startups & multinational corporations. He's led $250M in TCV across 20+ countries and previously graduated from Kellogg’s 2Y MBA. Welcome to KF Class 28!\\\",\\n    \\\"Welcome to Class 28, @kathrynweinmann! As VP at @NorwestVP, Kathryn has a track record of sourcing deals like @upsidefoods & Serena Ventures. She also serves on the board of @joinEVCA, a network of 1k+ investors. https://www.kauffmanfellows.org/fellows/kathryn-weinmann\\\",\\n    \\\".@AmerAlAmeri is at the forefront of Abu Dhabi's tech ecosystem, having led ADQ's investments in some of the world's most promising startups. Welcome to KF Class 28! https://www.kauffmanfellows.org/fellows/amer-alameri\\\",\\n    \\\"We're glad to welcome @ajkgopal as a member of KF Class 28! Ajay is a Partner at @frameworkvc where he has discovered his true calling—supporting and empowering exceptional founders to achieve their purpose, conquer challenges and build life-long learning. https://www.kauffmanfellows.org/fellows/ajay-gopal\\\",\\n    \\\"Welcome to Class 28, @HHalbouny! Recognizing the abundant talent across Africa but limited capital, Hisham co-founded P1 Ventures. With an impressive 20+ years in finance, investing, & business across 10 countries, Hisham is committed to nurturing Africa's emerging ecosystem.\\\",\\n    \\\".@vkumarNZ, Co-Managing Director of @gd1_vc, has a passion for venture capital that stems from the joy of making people’s visions and dreams come true. With prior experience at Apple and an MBA from Wharton, Vignesh brings a wealth of knowledge and expertise to KF Class 28!\\\",\\n    \\\"From horseback riding to impact investing. @jasminebusson, Managing Partner at @Globivest, believes driving meaningful change is all about collaboration and visionary achievements. We're delighted to have Jasmine as part of our network in KF Class 28. https://www.kauffmanfellows.org/fellows/jasmine-busson\\\",\\n    \\\".@NaderBekhouche leads global venture and growth investments at @ICDdubai, the principal investment arm of the government of Dubai. We're thrilled to add his expertise to our network as a member of Class 28! https://www.kauffmanfellows.org/fellows/nader-bekhouche\\\",\\n    \\\"Jefrey Joe is a founder turned investor who recognized a dearth of local Indonesian capital & transitioned to investing. Today, Jefrey joins Class 28 as a General Partner at Alpha JWC—a prominent VC fund building the digital economy in SE Asia with $650M AUM across three funds.\\\",\\n    \\\".@MikeMompi is the Co-Founder & Managing Partner of @EnzaCapital, a multi-stage venture fund backing founders & teams using tech to solve large & meaningful problems across Africa. We're happy to welcome him to our network as a member of KF Class 28! https://www.kauffmanfellows.org/fellows/mike-mompi\\\",\\n    \\\"Welcome to Class 28, Spencer Foust! As Managing Director at @sozo_ventures, Spencer leads investments for the firm & helps leading startups expand internationally, including Zoom, Fastly, Vendr, Project44, Chainalysis, & Coinbase. In 2020, he made the Forbes 30 Under 30 List!\\\",\\n    \\\"\\\\\\\"At @HV_Capital, Susie Meier works as a Principal covering FinTech & DeFi. VC allows her to put her innate curiosity, creativity, & big ideas to work. She enjoys listening to founders who have overcome difficult obstacles & connecting people in the ecosystem. Welcome to Class 28!\\\",\\n    \\\"\\\\\\\"Gal Noyman Veksler is a dynamic investor who has excelled in various leadership roles across the business, AI, and health sectors. Additionally, she was also an entrepreneur during her maternity leave and has been recognized as an award-winning researcher. Welcome to Class 28!\\\",\\n    \\\"As a Partner at @flyovercapital, @dankerr_KC is passionate about building a stronger middle-American tech ecosystem. He is excited to support the continued growth & development of the region’s tech community as a member of KF Class 28. https://www.kauffmanfellows.org/fellows/dan-kerr\\\",\\n    \\\"We're delighted to welcome Sarah Liu to Class 28! As a Partner on the Real Estate Technology Investment team at @fifthwallvc, Sarah focuses on early-stage investing in the construction, fintech, insurtech, & residential sectors. Previously, Sarah worked at McKinsey in SF. \\\",\\n    \\\"Solomon Hailu is a Partner at @MarchCPs where he primarily invests in fintech and enterprise software. Solomon was featured in Forbes 30 Under 30 for VC in 2021 & recognized on Insider’s 2022 Rising Stars list. He also serves on the Board of @BLCKVC. https://www.kauffmanfellows.org/fellows/solomon-hailu\\\",\\n    ]\"\n",
        "    },\n",
        "        {\n",
        "      \"role\": \"user\",\n",
        "      \"content\": f\"Generate a tweet for {fellow} who currently works at {vc_firm}.\"\n",
        "    }\n",
        "  ],\n",
        "temperature=1,\n",
        "            max_tokens=320,\n",
        "            top_p=1,\n",
        "            frequency_penalty=0.46,\n",
        "            presence_penalty=0\n",
        "        )\n",
        "\n",
        "        if response.choices:\n",
        "            generated_tweet = response.choices[0].message.content\n",
        "            writer.writerow([fellow, vc_firm, generated_tweet])\n",
        "        else:\n",
        "            print(f\"Failed to generate tweet for {fellow} at {vc_firm}\")\n",
        "            writer.writerow([fellow, vc_firm, \"Failed to generate tweet\"])\n",
        "\n",
        "print(f\"Completed. Data written to {csv_file}\")"
      ],
      "metadata": {
        "colab": {
          "base_uri": "https://localhost:8080/"
        },
        "id": "cER8f5y1Ko__",
        "outputId": "0a5ad622-317e-4e6d-fe87-9250ee17f38f"
      },
      "execution_count": null,
      "outputs": [
        {
          "output_type": "stream",
          "name": "stdout",
          "text": [
            "Completed. Data written to tweets.csv\n"
          ]
        }
      ]
    },
    {
      "cell_type": "code",
      "source": [
        "from google.colab import files\n",
        "files.download('tweets.csv')\n"
      ],
      "metadata": {
        "colab": {
          "base_uri": "https://localhost:8080/",
          "height": 17
        },
        "id": "AfPftcneoAks",
        "outputId": "2bd7c74a-9cd7-48db-8f04-6752e0471d85"
      },
      "execution_count": null,
      "outputs": [
        {
          "output_type": "display_data",
          "data": {
            "text/plain": [
              "<IPython.core.display.Javascript object>"
            ],
            "application/javascript": [
              "\n",
              "    async function download(id, filename, size) {\n",
              "      if (!google.colab.kernel.accessAllowed) {\n",
              "        return;\n",
              "      }\n",
              "      const div = document.createElement('div');\n",
              "      const label = document.createElement('label');\n",
              "      label.textContent = `Downloading \"${filename}\": `;\n",
              "      div.appendChild(label);\n",
              "      const progress = document.createElement('progress');\n",
              "      progress.max = size;\n",
              "      div.appendChild(progress);\n",
              "      document.body.appendChild(div);\n",
              "\n",
              "      const buffers = [];\n",
              "      let downloaded = 0;\n",
              "\n",
              "      const channel = await google.colab.kernel.comms.open(id);\n",
              "      // Send a message to notify the kernel that we're ready.\n",
              "      channel.send({})\n",
              "\n",
              "      for await (const message of channel.messages) {\n",
              "        // Send a message to notify the kernel that we're ready.\n",
              "        channel.send({})\n",
              "        if (message.buffers) {\n",
              "          for (const buffer of message.buffers) {\n",
              "            buffers.push(buffer);\n",
              "            downloaded += buffer.byteLength;\n",
              "            progress.value = downloaded;\n",
              "          }\n",
              "        }\n",
              "      }\n",
              "      const blob = new Blob(buffers, {type: 'application/binary'});\n",
              "      const a = document.createElement('a');\n",
              "      a.href = window.URL.createObjectURL(blob);\n",
              "      a.download = filename;\n",
              "      div.appendChild(a);\n",
              "      a.click();\n",
              "      div.remove();\n",
              "    }\n",
              "  "
            ]
          },
          "metadata": {}
        },
        {
          "output_type": "display_data",
          "data": {
            "text/plain": [
              "<IPython.core.display.Javascript object>"
            ],
            "application/javascript": [
              "download(\"download_c69fda2e-b1d6-47d5-b8e3-1dcb479dddf1\", \"tweets.csv\", 18497)"
            ]
          },
          "metadata": {}
        }
      ]
    }
  ]
}